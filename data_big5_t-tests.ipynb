{
 "cells": [
  {
   "cell_type": "code",
   "execution_count": 3,
   "metadata": {
    "id": "gbCrU0sg30EJ"
   },
   "outputs": [],
   "source": [
    "import pandas as pd"
   ]
  },
  {
   "cell_type": "code",
   "execution_count": 4,
   "metadata": {
    "colab": {
     "base_uri": "https://localhost:8080/"
    },
    "id": "vV87AYEx4huM",
    "outputId": "cee6ae54-7c49-45a9-c40b-28befd1857e3"
   },
   "outputs": [
    {
     "name": "stdout",
     "output_type": "stream",
     "text": [
      "Defaulting to user installation because normal site-packages is not writeable\n",
      "Collecting pyreadstat\n",
      "  Downloading pyreadstat-1.2.3-cp310-cp310-manylinux_2_17_x86_64.manylinux2014_x86_64.whl (2.8 MB)\n",
      "\u001b[2K     \u001b[90m━━━━━━━━━━━━━━━━━━━━━━━━━━━━━━━━━━━━━━━━\u001b[0m \u001b[32m2.8/2.8 MB\u001b[0m \u001b[31m1.7 MB/s\u001b[0m eta \u001b[36m0:00:00\u001b[0m00:01\u001b[0m00:01\u001b[0m0m\n",
      "\u001b[?25hRequirement already satisfied: pandas>=1.2.0 in /home/zanejev/.local/lib/python3.10/site-packages (from pyreadstat) (2.1.0)\n",
      "Requirement already satisfied: numpy>=1.22.4 in /home/zanejev/.local/lib/python3.10/site-packages (from pandas>=1.2.0->pyreadstat) (1.25.2)\n",
      "Requirement already satisfied: python-dateutil>=2.8.2 in /home/zanejev/.local/lib/python3.10/site-packages (from pandas>=1.2.0->pyreadstat) (2.8.2)\n",
      "Requirement already satisfied: pytz>=2020.1 in /home/zanejev/.local/lib/python3.10/site-packages (from pandas>=1.2.0->pyreadstat) (2023.3.post1)\n",
      "Requirement already satisfied: tzdata>=2022.1 in /home/zanejev/.local/lib/python3.10/site-packages (from pandas>=1.2.0->pyreadstat) (2023.3)\n",
      "Requirement already satisfied: six>=1.5 in /usr/lib/python3/dist-packages (from python-dateutil>=2.8.2->pandas>=1.2.0->pyreadstat) (1.16.0)\n",
      "Installing collected packages: pyreadstat\n",
      "Successfully installed pyreadstat-1.2.3\n"
     ]
    }
   ],
   "source": [
    "!pip install pyreadstat"
   ]
  },
  {
   "cell_type": "markdown",
   "metadata": {
    "id": "JKyIub1lGffH"
   },
   "source": [
    "Океан это большая пятерка: открытость опыту, добросовестность, экстраверсия, доброжелательность, нейротизм"
   ]
  },
  {
   "cell_type": "code",
   "execution_count": 36,
   "metadata": {
    "colab": {
     "base_uri": "https://localhost:8080/",
     "height": 383
    },
    "id": "KEEY47Rt4UI2",
    "outputId": "9236eb24-45c2-4512-c1c1-065e0b4deb82"
   },
   "outputs": [
    {
     "data": {
      "text/html": [
       "<div>\n",
       "<style scoped>\n",
       "    .dataframe tbody tr th:only-of-type {\n",
       "        vertical-align: middle;\n",
       "    }\n",
       "\n",
       "    .dataframe tbody tr th {\n",
       "        vertical-align: top;\n",
       "    }\n",
       "\n",
       "    .dataframe thead th {\n",
       "        text-align: right;\n",
       "    }\n",
       "</style>\n",
       "<table border=\"1\" class=\"dataframe\">\n",
       "  <thead>\n",
       "    <tr style=\"text-align: right;\">\n",
       "      <th></th>\n",
       "      <th>race</th>\n",
       "      <th>age</th>\n",
       "      <th>engnat</th>\n",
       "      <th>gender</th>\n",
       "      <th>hand</th>\n",
       "      <th>source</th>\n",
       "      <th>country</th>\n",
       "      <th>O</th>\n",
       "      <th>C</th>\n",
       "      <th>E</th>\n",
       "      <th>A</th>\n",
       "      <th>N</th>\n",
       "      <th>n400</th>\n",
       "      <th>n100</th>\n",
       "    </tr>\n",
       "  </thead>\n",
       "  <tbody>\n",
       "    <tr>\n",
       "      <th>0</th>\n",
       "      <td>13.0</td>\n",
       "      <td>27.0</td>\n",
       "      <td>родной</td>\n",
       "      <td>мужской</td>\n",
       "      <td>левая</td>\n",
       "      <td>2.0</td>\n",
       "      <td>BZ</td>\n",
       "      <td>37.0</td>\n",
       "      <td>27.0</td>\n",
       "      <td>32.0</td>\n",
       "      <td>33.0</td>\n",
       "      <td>29.0</td>\n",
       "      <td>1.0</td>\n",
       "      <td>1.0</td>\n",
       "    </tr>\n",
       "    <tr>\n",
       "      <th>1</th>\n",
       "      <td>13.0</td>\n",
       "      <td>16.0</td>\n",
       "      <td>не родной</td>\n",
       "      <td>мужской</td>\n",
       "      <td>правая</td>\n",
       "      <td>2.0</td>\n",
       "      <td>GB</td>\n",
       "      <td>32.0</td>\n",
       "      <td>28.0</td>\n",
       "      <td>28.0</td>\n",
       "      <td>31.0</td>\n",
       "      <td>29.0</td>\n",
       "      <td>1.0</td>\n",
       "      <td>1.0</td>\n",
       "    </tr>\n",
       "    <tr>\n",
       "      <th>2</th>\n",
       "      <td>13.0</td>\n",
       "      <td>20.0</td>\n",
       "      <td>не родной</td>\n",
       "      <td>женский</td>\n",
       "      <td>правая</td>\n",
       "      <td>1.0</td>\n",
       "      <td>IN</td>\n",
       "      <td>34.0</td>\n",
       "      <td>32.0</td>\n",
       "      <td>29.0</td>\n",
       "      <td>34.0</td>\n",
       "      <td>35.0</td>\n",
       "      <td>1.0</td>\n",
       "      <td>1.0</td>\n",
       "    </tr>\n",
       "    <tr>\n",
       "      <th>3</th>\n",
       "      <td>13.0</td>\n",
       "      <td>20.0</td>\n",
       "      <td>не родной</td>\n",
       "      <td>мужской</td>\n",
       "      <td>правая</td>\n",
       "      <td>1.0</td>\n",
       "      <td>IN</td>\n",
       "      <td>31.0</td>\n",
       "      <td>27.0</td>\n",
       "      <td>27.0</td>\n",
       "      <td>27.0</td>\n",
       "      <td>36.0</td>\n",
       "      <td>1.0</td>\n",
       "      <td>1.0</td>\n",
       "    </tr>\n",
       "    <tr>\n",
       "      <th>4</th>\n",
       "      <td>13.0</td>\n",
       "      <td>18.0</td>\n",
       "      <td>не родной</td>\n",
       "      <td>мужской</td>\n",
       "      <td>правая</td>\n",
       "      <td>1.0</td>\n",
       "      <td>US</td>\n",
       "      <td>33.0</td>\n",
       "      <td>30.0</td>\n",
       "      <td>22.0</td>\n",
       "      <td>16.0</td>\n",
       "      <td>29.0</td>\n",
       "      <td>1.0</td>\n",
       "      <td>1.0</td>\n",
       "    </tr>\n",
       "    <tr>\n",
       "      <th>...</th>\n",
       "      <td>...</td>\n",
       "      <td>...</td>\n",
       "      <td>...</td>\n",
       "      <td>...</td>\n",
       "      <td>...</td>\n",
       "      <td>...</td>\n",
       "      <td>...</td>\n",
       "      <td>...</td>\n",
       "      <td>...</td>\n",
       "      <td>...</td>\n",
       "      <td>...</td>\n",
       "      <td>...</td>\n",
       "      <td>...</td>\n",
       "      <td>...</td>\n",
       "    </tr>\n",
       "    <tr>\n",
       "      <th>7595</th>\n",
       "      <td>1.0</td>\n",
       "      <td>29.0</td>\n",
       "      <td>родной</td>\n",
       "      <td>женский</td>\n",
       "      <td>правая</td>\n",
       "      <td>2.0</td>\n",
       "      <td>JM</td>\n",
       "      <td>26.0</td>\n",
       "      <td>31.0</td>\n",
       "      <td>34.0</td>\n",
       "      <td>31.0</td>\n",
       "      <td>16.0</td>\n",
       "      <td>19.0</td>\n",
       "      <td>76.0</td>\n",
       "    </tr>\n",
       "    <tr>\n",
       "      <th>7596</th>\n",
       "      <td>1.0</td>\n",
       "      <td>20.0</td>\n",
       "      <td>родной</td>\n",
       "      <td>мужской</td>\n",
       "      <td>правая</td>\n",
       "      <td>1.0</td>\n",
       "      <td>NL</td>\n",
       "      <td>32.0</td>\n",
       "      <td>26.0</td>\n",
       "      <td>27.0</td>\n",
       "      <td>27.0</td>\n",
       "      <td>19.0</td>\n",
       "      <td>19.0</td>\n",
       "      <td>76.0</td>\n",
       "    </tr>\n",
       "    <tr>\n",
       "      <th>7597</th>\n",
       "      <td>1.0</td>\n",
       "      <td>19.0</td>\n",
       "      <td>родной</td>\n",
       "      <td>женский</td>\n",
       "      <td>правая</td>\n",
       "      <td>1.0</td>\n",
       "      <td>US</td>\n",
       "      <td>29.0</td>\n",
       "      <td>29.0</td>\n",
       "      <td>30.0</td>\n",
       "      <td>24.0</td>\n",
       "      <td>16.0</td>\n",
       "      <td>19.0</td>\n",
       "      <td>76.0</td>\n",
       "    </tr>\n",
       "    <tr>\n",
       "      <th>7598</th>\n",
       "      <td>1.0</td>\n",
       "      <td>18.0</td>\n",
       "      <td>родной</td>\n",
       "      <td>женский</td>\n",
       "      <td>правая</td>\n",
       "      <td>1.0</td>\n",
       "      <td>US</td>\n",
       "      <td>34.0</td>\n",
       "      <td>32.0</td>\n",
       "      <td>30.0</td>\n",
       "      <td>34.0</td>\n",
       "      <td>37.0</td>\n",
       "      <td>19.0</td>\n",
       "      <td>76.0</td>\n",
       "    </tr>\n",
       "    <tr>\n",
       "      <th>7599</th>\n",
       "      <td>1.0</td>\n",
       "      <td>18.0</td>\n",
       "      <td>родной</td>\n",
       "      <td>женский</td>\n",
       "      <td>правая</td>\n",
       "      <td>4.0</td>\n",
       "      <td>US</td>\n",
       "      <td>29.0</td>\n",
       "      <td>37.0</td>\n",
       "      <td>36.0</td>\n",
       "      <td>33.0</td>\n",
       "      <td>36.0</td>\n",
       "      <td>19.0</td>\n",
       "      <td>76.0</td>\n",
       "    </tr>\n",
       "  </tbody>\n",
       "</table>\n",
       "<p>7600 rows × 14 columns</p>\n",
       "</div>"
      ],
      "text/plain": [
       "      race   age     engnat   gender    hand  source country     O     C  \\\n",
       "0     13.0  27.0     родной  мужской   левая     2.0      BZ  37.0  27.0   \n",
       "1     13.0  16.0  не родной  мужской  правая     2.0      GB  32.0  28.0   \n",
       "2     13.0  20.0  не родной  женский  правая     1.0      IN  34.0  32.0   \n",
       "3     13.0  20.0  не родной  мужской  правая     1.0      IN  31.0  27.0   \n",
       "4     13.0  18.0  не родной  мужской  правая     1.0      US  33.0  30.0   \n",
       "...    ...   ...        ...      ...     ...     ...     ...   ...   ...   \n",
       "7595   1.0  29.0     родной  женский  правая     2.0      JM  26.0  31.0   \n",
       "7596   1.0  20.0     родной  мужской  правая     1.0      NL  32.0  26.0   \n",
       "7597   1.0  19.0     родной  женский  правая     1.0      US  29.0  29.0   \n",
       "7598   1.0  18.0     родной  женский  правая     1.0      US  34.0  32.0   \n",
       "7599   1.0  18.0     родной  женский  правая     4.0      US  29.0  37.0   \n",
       "\n",
       "         E     A     N  n400  n100  \n",
       "0     32.0  33.0  29.0   1.0   1.0  \n",
       "1     28.0  31.0  29.0   1.0   1.0  \n",
       "2     29.0  34.0  35.0   1.0   1.0  \n",
       "3     27.0  27.0  36.0   1.0   1.0  \n",
       "4     22.0  16.0  29.0   1.0   1.0  \n",
       "...    ...   ...   ...   ...   ...  \n",
       "7595  34.0  31.0  16.0  19.0  76.0  \n",
       "7596  27.0  27.0  19.0  19.0  76.0  \n",
       "7597  30.0  24.0  16.0  19.0  76.0  \n",
       "7598  30.0  34.0  37.0  19.0  76.0  \n",
       "7599  36.0  33.0  36.0  19.0  76.0  \n",
       "\n",
       "[7600 rows x 14 columns]"
      ]
     },
     "execution_count": 36,
     "metadata": {},
     "output_type": "execute_result"
    }
   ],
   "source": [
    "df = pd.read_spss(\"Data/01 data_big5_t-tests.sav\")\n",
    "df"
   ]
  },
  {
   "cell_type": "markdown",
   "metadata": {
    "id": "OVQGMpm18HTp"
   },
   "source": [
    "Проверяем нормальность распределения методом Колмогорова - Смирнова\n"
   ]
  },
  {
   "cell_type": "code",
   "execution_count": 14,
   "metadata": {
    "id": "b8xhYpsT5xJB"
   },
   "outputs": [
    {
     "name": "stdout",
     "output_type": "stream",
     "text": [
      "Defaulting to user installation because normal site-packages is not writeable\n",
      "Collecting scipy\n",
      "  Downloading scipy-1.11.2-cp310-cp310-manylinux_2_17_x86_64.manylinux2014_x86_64.whl (36.3 MB)\n",
      "\u001b[2K     \u001b[90m━━━━━━━━━━━━━━━━━━━━━━━━━━━━━━━━━━━━━━━━\u001b[0m \u001b[32m36.3/36.3 MB\u001b[0m \u001b[31m7.7 MB/s\u001b[0m eta \u001b[36m0:00:00\u001b[0m00:01\u001b[0m00:01\u001b[0mm\n",
      "\u001b[?25hRequirement already satisfied: numpy<1.28.0,>=1.21.6 in /home/zanejev/.local/lib/python3.10/site-packages (from scipy) (1.25.2)\n",
      "Installing collected packages: scipy\n",
      "Successfully installed scipy-1.11.2\n"
     ]
    }
   ],
   "source": [
    "import math\n",
    "import numpy as np\n",
    "!pip install scipy\n",
    "from scipy.stats import kstest"
   ]
  },
  {
   "cell_type": "code",
   "execution_count": 15,
   "metadata": {
    "id": "x_Fappqy5zOc"
   },
   "outputs": [],
   "source": [
    "statistic, p_value = kstest(df[\"O\"], 'norm', args=(np.mean(df[\"O\"]), np.std(df[\"O\"])))"
   ]
  },
  {
   "cell_type": "code",
   "execution_count": 16,
   "metadata": {
    "colab": {
     "base_uri": "https://localhost:8080/",
     "height": 245
    },
    "id": "bdHn7lMx5-NE",
    "outputId": "3be18b9b-f9a4-4fbe-fd92-9219895a02c1"
   },
   "outputs": [
    {
     "name": "stdout",
     "output_type": "stream",
     "text": [
      "Statistic: 0.07678411580752037\n",
      "P-value: 2.0367579967121362e-39\n",
      "Отклоняем гипотезу о нормальности распределения\n"
     ]
    }
   ],
   "source": [
    "print(f\"Statistic: {statistic}\")\n",
    "print(f\"P-value: {p_value}\")\n",
    "\n",
    "# Интерпретация результатов\n",
    "alpha = 0.05\n",
    "if p_value > alpha:\n",
    "    print('Принимаем гипотезу о нормальности распределения')\n",
    "else:\n",
    "    print('Отклоняем гипотезу о нормальности распределения')"
   ]
  },
  {
   "cell_type": "code",
   "execution_count": 17,
   "metadata": {
    "colab": {
     "base_uri": "https://localhost:8080/"
    },
    "id": "eiXwZNTt7y27",
    "outputId": "710db5da-d971-44c4-e7cd-ac5f4b45ab3d"
   },
   "outputs": [
    {
     "name": "stdout",
     "output_type": "stream",
     "text": [
      "2.0571825392998053\n"
     ]
    }
   ],
   "source": [
    "import numpy as np\n",
    "\n",
    "group1 = np.array([37.0, 32.0, 34.0, 31.0, 33.0])\n",
    "group2 = np.array([27.0, 28.0, 32.0, 27.0, 30.0])\n",
    "\n",
    "mean1 = np.mean(group1)\n",
    "mean2 = np.mean(group2)\n",
    "\n",
    "sd1 = np.std(group1, ddof=1)\n",
    "sd2 = np.std(group2, ddof=1)\n",
    "\n",
    "sdpooled = np.sqrt((sd1**2 + sd2**2) / 2)\n",
    "\n",
    "cohens_d = (mean1 - mean2) / sdpooled\n",
    "\n",
    "print(cohens_d)"
   ]
  },
  {
   "cell_type": "code",
   "execution_count": null,
   "metadata": {},
   "outputs": [],
   "source": []
  }
 ],
 "metadata": {
  "colab": {
   "provenance": []
  },
  "kernelspec": {
   "display_name": "Python 3 (ipykernel)",
   "language": "python",
   "name": "python3"
  },
  "language_info": {
   "codemirror_mode": {
    "name": "ipython",
    "version": 3
   },
   "file_extension": ".py",
   "mimetype": "text/x-python",
   "name": "python",
   "nbconvert_exporter": "python",
   "pygments_lexer": "ipython3",
   "version": "3.10.12"
  }
 },
 "nbformat": 4,
 "nbformat_minor": 4
}
